{
 "cells": [
  {
   "cell_type": "code",
   "execution_count": 1,
   "metadata": {},
   "outputs": [],
   "source": [
    "import pandas as pd\n",
    "import numpy as np\n",
    "import matplotlib.pyplot as plt\n",
    "import re\n",
    "import nltk\n",
    "import seaborn as sns\n",
    "%matplotlib inline"
   ]
  },
  {
   "cell_type": "markdown",
   "metadata": {},
   "source": [
    "### Importing all the dataset\n",
    "##### Information about the dataset\n",
    "- The information about all the dataset and what it is can be found here \n",
    "- https://lt4all.elra.info/proceedings/lt4all2019/pdf/2019.lt4all-1.94.pdf "
   ]
  },
  {
   "cell_type": "code",
   "execution_count": 2,
   "metadata": {},
   "outputs": [],
   "source": [
    "english_bible = pd.read_csv('data_source/bible.en.csv')\n",
    "nepali_bible = pd.read_csv('data_source/bible.en.csv')\n",
    "english_global_voice = pd.read_csv('data_source/globalvoices_improved.en.csv')\n",
    "nepali_global_voice = pd.read_csv('data_source/globalvoices_improved.ne.csv')\n",
    "english_mono = pd.read_csv('data_source/mono.en.csv')\n",
    "nepali_mono = pd.read_csv('data_source/mono.ne.csv')\n",
    "english_nnc = pd.read_csv('data_source/nnc-3-4-7-8.en.csv')\n",
    "nepali_nnc = pd.read_csv('data_source/nnc-3-4-7-8.ne.csv')\n",
    "english_pr = pd.read_csv('data_source/PR_improved.en.csv')\n",
    "nepali_pr = pd.read_csv('data_source/PR_improved.ne.csv')"
   ]
  },
  {
   "cell_type": "code",
   "execution_count": 3,
   "metadata": {},
   "outputs": [],
   "source": [
    "#Dropping the coloumns that is not needed from the data\n",
    "english_bible.drop('Unnamed: 0', axis = 1,inplace = True)\n",
    "nepali_bible.drop('Unnamed: 0', axis =  1,inplace  = True)\n",
    "english_global_voice.drop('Unnamed: 0',  axis = 1,inplace = True)\n",
    "nepali_global_voice.drop('Unnamed: 0',  axis = 1,inplace = True)\n",
    "english_mono.drop('Unnamed: 0',  axis = 1,inplace = True)\n",
    "nepali_mono.drop('Unnamed: 0',  axis = 1,inplace = True)\n",
    "english_nnc.drop('Unnamed: 0',  axis = 1,inplace = True)\n",
    "nepali_nnc.drop('Unnamed: 0',  axis = 1,inplace = True)\n",
    "english_pr.drop('Unnamed: 0',  axis = 1,inplace = True)\n",
    "nepali_pr.drop('Unnamed: 0',  axis = 1,inplace = True)"
   ]
  },
  {
   "cell_type": "code",
   "execution_count": 4,
   "metadata": {},
   "outputs": [],
   "source": [
    "#Renaming the cols with an appropriate name\n",
    "english_bible.rename(columns = {'0':'Data'},inplace = True)\n",
    "nepali_bible.rename(columns = {'0':'Data'},inplace = True)\n",
    "english_global_voice.rename(columns = {'0':'Data'},inplace = True)\n",
    "nepali_global_voice.rename(columns = {'0':'Data'},inplace = True)\n",
    "english_mono.rename(columns = {'0':'Data'},inplace = True)\n",
    "nepali_mono.rename(columns = {'0':'Data'},inplace = True)\n",
    "english_nnc.rename(columns = {'0':'Data'},inplace = True)\n",
    "nepali_nnc.rename(columns = {'0':'Data'},inplace = True)\n",
    "english_pr.rename(columns = {'0':'Data'},inplace = True)\n",
    "nepali_pr.rename(columns = {'0':'Data'},inplace = True)"
   ]
  },
  {
   "cell_type": "markdown",
   "metadata": {},
   "source": [
    "## Deep dive into data exploration\n",
    "###### Let's look into those data one by one\n",
    "- English and Nepalese bible has 30,577 rows\n",
    "- English and Nepalese global voice has 4,697 rows\n",
    "- English and Nepalese mono has rows of 37,273 rows\n",
    "- English and Nepalese NNC has rows of 13,674 rows\n",
    "- English and Nepalese PR has rows of 7,070 rows"
   ]
  },
  {
   "cell_type": "code",
   "execution_count": 55,
   "metadata": {},
   "outputs": [
    {
     "data": {
      "image/png": "[encoded data removed]",
      "text/plain": [
       "<Figure size 1440x360 with 1 Axes>"
      ]
     },
     "metadata": {
      "needs_background": "light"
     },
     "output_type": "display_data"
    }
   ],
   "source": [
    "datalist = [english_bible,nepali_bible,english_global_voice,nepali_global_voice,english_mono,nepali_mono,english_nnc,nepali_nnc,english_pr,nepali_pr]\n",
    "labels = ['English Bible','Nepali Bible','English Global Voice','Nepali Global Voice','English Mono','Nepali Mono','English Nnc','Nepali Nnc','English Pr','Nepali Pr']\n",
    "data_rows = [] #length of each data rows\n",
    "for i in datalist:\n",
    "    data_rows.append(len(i))\n",
    "\n",
    "#Creating a graph for the data counts\n",
    "fig = plt.figure(figsize = (20, 5))\n",
    "plt.bar(labels,data_rows,width = 0.4)\n",
    "plt.xlabel(\"Name of the datas\")\n",
    "plt.ylabel(\"No of rows for the data \")\n",
    "plt.title(\"Data Counts\")\n",
    "plt.show()"
   ]
  },
  {
   "cell_type": "code",
   "execution_count": null,
   "metadata": {},
   "outputs": [],
   "source": [
    "# Now let's work on the cleaning of data thoroughly. "
   ]
  }
 ],
 "metadata": {
  "kernelspec": {
   "display_name": "Python 3",
   "language": "python",
   "name": "python3"
  },
  "language_info": {
   "codemirror_mode": {
    "name": "ipython",
    "version": 3
   },
   "file_extension": ".py",
   "mimetype": "text/x-python",
   "name": "python",
   "nbconvert_exporter": "python",
   "pygments_lexer": "ipython3",
   "version": "3.7.6"
  }
 },
 "nbformat": 4,
 "nbformat_minor": 4
}
