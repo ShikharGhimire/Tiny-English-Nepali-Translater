{
 "cells": [
  {
   "cell_type": "markdown",
   "metadata": {},
   "source": [
    "#### Scripts to convert .en and .np file into one csv file parallely"
   ]
  },
  {
   "cell_type": "code",
   "execution_count": 22,
   "metadata": {},
   "outputs": [],
   "source": [
    "import pandas as pd\n",
    "def txt_to_csv(data):\n",
    "    with open(data) as file_in:\n",
    "        lines = []\n",
    "        for line in file_in:\n",
    "            lines.append(line)\n",
    "    dataframe = pd.DataFrame(lines)\n",
    "    dataframe.to_csv('{}.csv'.format(data.split()[0]))"
   ]
  },
  {
   "cell_type": "code",
   "execution_count": 31,
   "metadata": {},
   "outputs": [],
   "source": [
    "txt_to_csv('insert your en or ne file here')\n",
    "#the way it will save the format is for example : 'bible.en.csv'"
   ]
  }
 ],
 "metadata": {
  "kernelspec": {
   "display_name": "Python 3",
   "language": "python",
   "name": "python3"
  },
  "language_info": {
   "codemirror_mode": {
    "name": "ipython",
    "version": 3
   },
   "file_extension": ".py",
   "mimetype": "text/x-python",
   "name": "python",
   "nbconvert_exporter": "python",
   "pygments_lexer": "ipython3",
   "version": "3.7.6"
  }
 },
 "nbformat": 4,
 "nbformat_minor": 4
}
